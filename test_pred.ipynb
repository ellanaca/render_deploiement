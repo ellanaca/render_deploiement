{
 "cells": [
  {
   "cell_type": "code",
   "execution_count": 10,
   "metadata": {},
   "outputs": [],
   "source": [
    "import joblib\n",
    "import pandas as pd"
   ]
  },
  {
   "cell_type": "code",
   "execution_count": 11,
   "metadata": {},
   "outputs": [],
   "source": [
    "def predict(data):\n",
    "    # load model\n",
    "    with open(\"model_autre_simplon.pkl\", \"rb\") as f:\n",
    "        model = joblib.load(f)\n",
    "\n",
    "    X = pd.DataFrame(data)\n",
    "    prediction = model.predict(X)\n",
    "    return prediction[0]"
   ]
  },
  {
   "cell_type": "code",
   "execution_count": 24,
   "metadata": {},
   "outputs": [],
   "source": [
    "columns = [\n",
    "\n",
    "    'Orga Segment', 'Client Comptable',\n",
    "    'Infotype Garantie', 'Montant HT (FI-AR)', 'Evaluation',\n",
    "    'delai aloué', 'montant garantie', 'encours'\n",
    "]\n",
    "\n",
    "\n",
    "data = [\n",
    "    [\n",
    "\n",
    "         1, 'Client A',\n",
    "        50, 1000.00, 0,\n",
    "        30, 500.00, 1500.00\n",
    "    ]\n",
    "]"
   ]
  },
  {
   "cell_type": "code",
   "execution_count": 25,
   "metadata": {},
   "outputs": [],
   "source": [
    "df = pd.DataFrame(data, columns=columns)"
   ]
  },
  {
   "cell_type": "code",
   "execution_count": 26,
   "metadata": {},
   "outputs": [
    {
     "data": {
      "text/plain": [
       "'(0, 15]'"
      ]
     },
     "execution_count": 26,
     "metadata": {},
     "output_type": "execute_result"
    }
   ],
   "source": [
    "predict(df)"
   ]
  }
 ],
 "metadata": {
  "kernelspec": {
   "display_name": "Python 3",
   "language": "python",
   "name": "python3"
  },
  "language_info": {
   "codemirror_mode": {
    "name": "ipython",
    "version": 3
   },
   "file_extension": ".py",
   "mimetype": "text/x-python",
   "name": "python",
   "nbconvert_exporter": "python",
   "pygments_lexer": "ipython3",
   "version": "3.10.12"
  }
 },
 "nbformat": 4,
 "nbformat_minor": 2
}
